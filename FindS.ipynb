{
  "nbformat": 4,
  "nbformat_minor": 0,
  "metadata": {
    "colab": {
      "name": "FindS.ipynb",
      "provenance": [],
      "collapsed_sections": [],
      "authorship_tag": "ABX9TyPsPuw0/bsXcY4gcokgInKc",
      "include_colab_link": true
    },
    "kernelspec": {
      "name": "python3",
      "display_name": "Python 3"
    }
  },
  "cells": [
    {
      "cell_type": "markdown",
      "metadata": {
        "id": "view-in-github",
        "colab_type": "text"
      },
      "source": [
        "<a href=\"https://colab.research.google.com/github/KeerthanaHK/Machine-Learning/blob/master/FindS.ipynb\" target=\"_parent\"><img src=\"https://colab.research.google.com/assets/colab-badge.svg\" alt=\"Open In Colab\"/></a>"
      ]
    },
    {
      "cell_type": "markdown",
      "metadata": {
        "id": "AXEIHgKm6t5O"
      },
      "source": [
        "**FIND-S ALGORITHM:**"
      ]
    },
    {
      "cell_type": "code",
      "metadata": {
        "colab": {
          "base_uri": "https://localhost:8080/"
        },
        "id": "eVmz5JaW6kiL",
        "outputId": "8ec24d48-30b1-4a6f-a029-70d8d1443a22"
      },
      "source": [
        "import csv\r\n",
        "a=[]\r\n",
        "with open('finds.csv','r') as csvfile:\r\n",
        "  for row in csv.reader(csvfile):\r\n",
        "    a.append(row)\r\n",
        "print(a)\r\n",
        "\r\n",
        "print(\"\\n Total number of training instances: \", len(a))\r\n",
        "\r\n",
        "num_attribute = len(a[0])-1\r\n",
        "\r\n",
        "print(\"\\n Initial hypothesis : \")\r\n",
        "hypothesis = ['0']*num_attribute\r\n",
        "print(hypothesis)\r\n",
        "\r\n",
        "for i in range(0,len(a)):\r\n",
        "  if a[i][num_attribute] == 'Yes':\r\n",
        "    for j in range(0, num_attribute):\r\n",
        "      if hypothesis[j] == '0' or hypothesis[j] == a[i][j]:\r\n",
        "        hypothesis[j] = a[i][j]\r\n",
        "      else:\r\n",
        "        hypothesis[j] ='?'\r\n",
        "  print(\"\\n Hypothesis for training instance {} is: \".format(i+1), hypothesis)\r\n",
        "\r\n",
        "print(\"\\n Maximally specific hypothesis is: \")\r\n",
        "print(hypothesis)"
      ],
      "execution_count": 6,
      "outputs": [
        {
          "output_type": "stream",
          "text": [
            "[['Sky', 'Airtemp', 'Humidity', 'Wind', 'Water', 'Forecast', 'WaterSport'], ['Sunny', 'Warm', 'Normal', 'Strong', 'Warm', 'Same', 'Yes'], ['Sunny', 'Warm', 'High', 'Strong', 'Warm', 'Same', 'Yes'], ['Cloudy', 'Cold', 'High', 'Strong', 'Warm', 'Change', 'No'], ['Sunny', 'Warm', 'High', 'Strong', 'Cool', 'Change', 'Yes']]\n",
            "\n",
            " Total number of training instances:  5\n",
            "\n",
            " Initial hypothesis : \n",
            "['0', '0', '0', '0', '0', '0']\n",
            "\n",
            " Hypothesis for training instance 1 is:  ['0', '0', '0', '0', '0', '0']\n",
            "\n",
            " Hypothesis for training instance 2 is:  ['Sunny', 'Warm', 'Normal', 'Strong', 'Warm', 'Same']\n",
            "\n",
            " Hypothesis for training instance 3 is:  ['Sunny', 'Warm', '?', 'Strong', 'Warm', 'Same']\n",
            "\n",
            " Hypothesis for training instance 4 is:  ['Sunny', 'Warm', '?', 'Strong', 'Warm', 'Same']\n",
            "\n",
            " Hypothesis for training instance 5 is:  ['Sunny', 'Warm', '?', 'Strong', '?', '?']\n",
            "\n",
            " Maximally specific hypothesis is: \n",
            "['Sunny', 'Warm', '?', 'Strong', '?', '?']\n"
          ],
          "name": "stdout"
        }
      ]
    }
  ]
}