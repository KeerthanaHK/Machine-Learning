{
  "nbformat": 4,
  "nbformat_minor": 0,
  "metadata": {
    "colab": {
      "name": "CandidateElimination.ipynb",
      "provenance": [],
      "authorship_tag": "ABX9TyM5prlz7ipMaKSCnn7zhmx7",
      "include_colab_link": true
    },
    "kernelspec": {
      "name": "python3",
      "display_name": "Python 3"
    }
  },
  "cells": [
    {
      "cell_type": "markdown",
      "metadata": {
        "id": "view-in-github",
        "colab_type": "text"
      },
      "source": [
        "<a href=\"https://colab.research.google.com/github/KeerthanaHK/Machine-Learning/blob/master/CandidateElimination.ipynb\" target=\"_parent\"><img src=\"https://colab.research.google.com/assets/colab-badge.svg\" alt=\"Open In Colab\"/></a>"
      ]
    },
    {
      "cell_type": "code",
      "metadata": {
        "colab": {
          "base_uri": "https://localhost:8080/"
        },
        "id": "Vdv_Gv4t1iMH",
        "outputId": "1269cbc3-cc83-45e7-8fc7-ce2b17bc7454"
      },
      "source": [
        "import numpy as np\r\n",
        "import pandas as pd\r\n",
        "data = pd.DataFrame(data=pd.read_csv('candidate.csv'))\r\n",
        "concepts = np.array(data.iloc[:,0:-1])\r\n",
        "target = np.array(data.iloc[:,-1])\r\n",
        "def learn(concepts, target):\r\n",
        "    specific_h = concepts[0].copy()\r\n",
        "    general_h = [[\"?\" for i in range(len(specific_h))] for i in range(len(specific_h))]\r\n",
        "    for i, h in enumerate(concepts):\r\n",
        "        if target[i] == \"Yes\":\r\n",
        "            for x in range(len(specific_h)):\r\n",
        "                if h[x] != specific_h[x]:\r\n",
        "                    specific_h[x] = '?'\r\n",
        "                    general_h[x][x] = '?'\r\n",
        "        if target[i] == \"No\":\r\n",
        "            for x in range(len(specific_h)):\r\n",
        "                if h[x] != specific_h[x]:\r\n",
        "                    general_h[x][x] = specific_h[x]\r\n",
        "                else:\r\n",
        "                    general_h[x][x] = '?'\r\n",
        "    indices = [i for i,val in enumerate(general_h) if val == ['?', '?', '?', '?', '?']]\r\n",
        "    for i in indices:\r\n",
        "        general_h.remove(['?', '?', '?', '?', '?'])\r\n",
        "    return specific_h, general_h\r\n",
        "s_final, g_final = learn(concepts, target)\r\n",
        "print(\"Final Specific :\", s_final, sep=\"\\n\")\r\n",
        "print(\"Final General:\", g_final, sep=\"\\n\")"
      ],
      "execution_count": 2,
      "outputs": [
        {
          "output_type": "stream",
          "text": [
            "Final Specific :\n",
            "['Sunny' 'Warm' '?' 'Strong' '?']\n",
            "Final General:\n",
            "[['Sunny', '?', '?', '?', '?'], ['?', 'Warm', '?', '?', '?']]\n"
          ],
          "name": "stdout"
        }
      ]
    }
  ]
}